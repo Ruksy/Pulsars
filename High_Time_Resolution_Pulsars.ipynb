{
  "nbformat": 4,
  "nbformat_minor": 0,
  "metadata": {
    "colab": {
      "name": "High Time Resolution Pulsars",
      "provenance": [],
      "collapsed_sections": [],
      "authorship_tag": "ABX9TyPE+uEUgWZpZFPXCRcMry9h",
      "include_colab_link": true
    },
    "kernelspec": {
      "name": "python3",
      "display_name": "Python 3"
    },
    "accelerator": "TPU"
  },
  "cells": [
    {
      "cell_type": "markdown",
      "metadata": {
        "id": "view-in-github",
        "colab_type": "text"
      },
      "source": [
        "<a href=\"https://colab.research.google.com/github/Ruksy/Pulsars/blob/master/High_Time_Resolution_Pulsars.ipynb\" target=\"_parent\"><img src=\"https://colab.research.google.com/assets/colab-badge.svg\" alt=\"Open In Colab\"/></a>"
      ]
    },
    {
      "cell_type": "code",
      "metadata": {
        "id": "XbfHcvS9GkYF",
        "colab_type": "code",
        "colab": {}
      },
      "source": [
        ""
      ],
      "execution_count": null,
      "outputs": []
    },
    {
      "cell_type": "code",
      "metadata": {
        "colab_type": "code",
        "id": "FpvUOuC3j27n",
        "colab": {
          "base_uri": "https://localhost:8080/",
          "height": 768
        },
        "outputId": "3611aa1f-8884-4db6-f4ca-5f4c94b70fd1"
      },
      "source": [
        "%tensorflow_version 2.x\n",
        "import tensorflow as tf\n",
        "print(\"Tensorflow version \" + tf.__version__)\n",
        "\n",
        "try:\n",
        "  tpu = tf.distribute.cluster_resolver.TPUClusterResolver()  # TPU detection\n",
        "  print('Running on TPU ', tpu.cluster_spec().as_dict()['worker'])\n",
        "except ValueError:\n",
        "  raise BaseException('ERROR: Not connected to a TPU runtime; please see the previous cell in this notebook for instructions!')\n",
        "\n",
        "tf.config.experimental_connect_to_cluster(tpu)\n",
        "tf.tpu.experimental.initialize_tpu_system(tpu)\n",
        "tpu_strategy = tf.distribute.experimental.TPUStrategy(tpu)"
      ],
      "execution_count": 2,
      "outputs": [
        {
          "output_type": "stream",
          "text": [
            "Tensorflow version 2.3.0\n",
            "Running on TPU  ['10.52.34.130:8470']\n",
            "INFO:tensorflow:Initializing the TPU system: grpc://10.52.34.130:8470\n"
          ],
          "name": "stdout"
        },
        {
          "output_type": "stream",
          "text": [
            "INFO:tensorflow:Initializing the TPU system: grpc://10.52.34.130:8470\n"
          ],
          "name": "stderr"
        },
        {
          "output_type": "stream",
          "text": [
            "INFO:tensorflow:Clearing out eager caches\n"
          ],
          "name": "stdout"
        },
        {
          "output_type": "stream",
          "text": [
            "INFO:tensorflow:Clearing out eager caches\n"
          ],
          "name": "stderr"
        },
        {
          "output_type": "stream",
          "text": [
            "INFO:tensorflow:Finished initializing TPU system.\n"
          ],
          "name": "stdout"
        },
        {
          "output_type": "stream",
          "text": [
            "INFO:tensorflow:Finished initializing TPU system.\n",
            "WARNING:absl:`tf.distribute.experimental.TPUStrategy` is deprecated, please use  the non experimental symbol `tf.distribute.TPUStrategy` instead.\n"
          ],
          "name": "stderr"
        },
        {
          "output_type": "stream",
          "text": [
            "INFO:tensorflow:Found TPU system:\n"
          ],
          "name": "stdout"
        },
        {
          "output_type": "stream",
          "text": [
            "INFO:tensorflow:Found TPU system:\n"
          ],
          "name": "stderr"
        },
        {
          "output_type": "stream",
          "text": [
            "INFO:tensorflow:*** Num TPU Cores: 8\n"
          ],
          "name": "stdout"
        },
        {
          "output_type": "stream",
          "text": [
            "INFO:tensorflow:*** Num TPU Cores: 8\n"
          ],
          "name": "stderr"
        },
        {
          "output_type": "stream",
          "text": [
            "INFO:tensorflow:*** Num TPU Workers: 1\n"
          ],
          "name": "stdout"
        },
        {
          "output_type": "stream",
          "text": [
            "INFO:tensorflow:*** Num TPU Workers: 1\n"
          ],
          "name": "stderr"
        },
        {
          "output_type": "stream",
          "text": [
            "INFO:tensorflow:*** Num TPU Cores Per Worker: 8\n"
          ],
          "name": "stdout"
        },
        {
          "output_type": "stream",
          "text": [
            "INFO:tensorflow:*** Num TPU Cores Per Worker: 8\n"
          ],
          "name": "stderr"
        },
        {
          "output_type": "stream",
          "text": [
            "INFO:tensorflow:*** Available Device: _DeviceAttributes(/job:localhost/replica:0/task:0/device:CPU:0, CPU, 0, 0)\n"
          ],
          "name": "stdout"
        },
        {
          "output_type": "stream",
          "text": [
            "INFO:tensorflow:*** Available Device: _DeviceAttributes(/job:localhost/replica:0/task:0/device:CPU:0, CPU, 0, 0)\n"
          ],
          "name": "stderr"
        },
        {
          "output_type": "stream",
          "text": [
            "INFO:tensorflow:*** Available Device: _DeviceAttributes(/job:localhost/replica:0/task:0/device:XLA_CPU:0, XLA_CPU, 0, 0)\n"
          ],
          "name": "stdout"
        },
        {
          "output_type": "stream",
          "text": [
            "INFO:tensorflow:*** Available Device: _DeviceAttributes(/job:localhost/replica:0/task:0/device:XLA_CPU:0, XLA_CPU, 0, 0)\n"
          ],
          "name": "stderr"
        },
        {
          "output_type": "stream",
          "text": [
            "INFO:tensorflow:*** Available Device: _DeviceAttributes(/job:worker/replica:0/task:0/device:CPU:0, CPU, 0, 0)\n"
          ],
          "name": "stdout"
        },
        {
          "output_type": "stream",
          "text": [
            "INFO:tensorflow:*** Available Device: _DeviceAttributes(/job:worker/replica:0/task:0/device:CPU:0, CPU, 0, 0)\n"
          ],
          "name": "stderr"
        },
        {
          "output_type": "stream",
          "text": [
            "INFO:tensorflow:*** Available Device: _DeviceAttributes(/job:worker/replica:0/task:0/device:TPU:0, TPU, 0, 0)\n"
          ],
          "name": "stdout"
        },
        {
          "output_type": "stream",
          "text": [
            "INFO:tensorflow:*** Available Device: _DeviceAttributes(/job:worker/replica:0/task:0/device:TPU:0, TPU, 0, 0)\n"
          ],
          "name": "stderr"
        },
        {
          "output_type": "stream",
          "text": [
            "INFO:tensorflow:*** Available Device: _DeviceAttributes(/job:worker/replica:0/task:0/device:TPU:1, TPU, 0, 0)\n"
          ],
          "name": "stdout"
        },
        {
          "output_type": "stream",
          "text": [
            "INFO:tensorflow:*** Available Device: _DeviceAttributes(/job:worker/replica:0/task:0/device:TPU:1, TPU, 0, 0)\n"
          ],
          "name": "stderr"
        },
        {
          "output_type": "stream",
          "text": [
            "INFO:tensorflow:*** Available Device: _DeviceAttributes(/job:worker/replica:0/task:0/device:TPU:2, TPU, 0, 0)\n"
          ],
          "name": "stdout"
        },
        {
          "output_type": "stream",
          "text": [
            "INFO:tensorflow:*** Available Device: _DeviceAttributes(/job:worker/replica:0/task:0/device:TPU:2, TPU, 0, 0)\n"
          ],
          "name": "stderr"
        },
        {
          "output_type": "stream",
          "text": [
            "INFO:tensorflow:*** Available Device: _DeviceAttributes(/job:worker/replica:0/task:0/device:TPU:3, TPU, 0, 0)\n"
          ],
          "name": "stdout"
        },
        {
          "output_type": "stream",
          "text": [
            "INFO:tensorflow:*** Available Device: _DeviceAttributes(/job:worker/replica:0/task:0/device:TPU:3, TPU, 0, 0)\n"
          ],
          "name": "stderr"
        },
        {
          "output_type": "stream",
          "text": [
            "INFO:tensorflow:*** Available Device: _DeviceAttributes(/job:worker/replica:0/task:0/device:TPU:4, TPU, 0, 0)\n"
          ],
          "name": "stdout"
        },
        {
          "output_type": "stream",
          "text": [
            "INFO:tensorflow:*** Available Device: _DeviceAttributes(/job:worker/replica:0/task:0/device:TPU:4, TPU, 0, 0)\n"
          ],
          "name": "stderr"
        },
        {
          "output_type": "stream",
          "text": [
            "INFO:tensorflow:*** Available Device: _DeviceAttributes(/job:worker/replica:0/task:0/device:TPU:5, TPU, 0, 0)\n"
          ],
          "name": "stdout"
        },
        {
          "output_type": "stream",
          "text": [
            "INFO:tensorflow:*** Available Device: _DeviceAttributes(/job:worker/replica:0/task:0/device:TPU:5, TPU, 0, 0)\n"
          ],
          "name": "stderr"
        },
        {
          "output_type": "stream",
          "text": [
            "INFO:tensorflow:*** Available Device: _DeviceAttributes(/job:worker/replica:0/task:0/device:TPU:6, TPU, 0, 0)\n"
          ],
          "name": "stdout"
        },
        {
          "output_type": "stream",
          "text": [
            "INFO:tensorflow:*** Available Device: _DeviceAttributes(/job:worker/replica:0/task:0/device:TPU:6, TPU, 0, 0)\n"
          ],
          "name": "stderr"
        },
        {
          "output_type": "stream",
          "text": [
            "INFO:tensorflow:*** Available Device: _DeviceAttributes(/job:worker/replica:0/task:0/device:TPU:7, TPU, 0, 0)\n"
          ],
          "name": "stdout"
        },
        {
          "output_type": "stream",
          "text": [
            "INFO:tensorflow:*** Available Device: _DeviceAttributes(/job:worker/replica:0/task:0/device:TPU:7, TPU, 0, 0)\n"
          ],
          "name": "stderr"
        },
        {
          "output_type": "stream",
          "text": [
            "INFO:tensorflow:*** Available Device: _DeviceAttributes(/job:worker/replica:0/task:0/device:TPU_SYSTEM:0, TPU_SYSTEM, 0, 0)\n"
          ],
          "name": "stdout"
        },
        {
          "output_type": "stream",
          "text": [
            "INFO:tensorflow:*** Available Device: _DeviceAttributes(/job:worker/replica:0/task:0/device:TPU_SYSTEM:0, TPU_SYSTEM, 0, 0)\n"
          ],
          "name": "stderr"
        },
        {
          "output_type": "stream",
          "text": [
            "INFO:tensorflow:*** Available Device: _DeviceAttributes(/job:worker/replica:0/task:0/device:XLA_CPU:0, XLA_CPU, 0, 0)\n"
          ],
          "name": "stdout"
        },
        {
          "output_type": "stream",
          "text": [
            "INFO:tensorflow:*** Available Device: _DeviceAttributes(/job:worker/replica:0/task:0/device:XLA_CPU:0, XLA_CPU, 0, 0)\n"
          ],
          "name": "stderr"
        }
      ]
    },
    {
      "cell_type": "code",
      "metadata": {
        "id": "HU7nMuq4HF1m",
        "colab_type": "code",
        "colab": {}
      },
      "source": [
        ""
      ],
      "execution_count": null,
      "outputs": []
    },
    {
      "cell_type": "code",
      "metadata": {
        "id": "I5Ql4ArnA0xW",
        "colab_type": "code",
        "colab": {
          "resources": {
            "http://localhost:8080/nbextensions/google.colab/files.js": {
              "data": "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",
              "ok": true,
              "headers": [
                [
                  "content-type",
                  "application/javascript"
                ]
              ],
              "status": 200,
              "status_text": ""
            }
          },
          "base_uri": "https://localhost:8080/",
          "height": 89
        },
        "outputId": "048af8fa-1b19-4675-8260-8e2608dbd34a"
      },
      "source": [
        "from google.colab import files\n",
        "\n",
        "uploaded = files.upload()\n",
        "\n",
        "for fn in uploaded.keys():\n",
        "  print('User uploaded file \"{name}\" with length {length} bytes'.format(\n",
        "      name=fn, length=len(uploaded[fn])))"
      ],
      "execution_count": 6,
      "outputs": [
        {
          "output_type": "display_data",
          "data": {
            "text/html": [
              "\n",
              "     <input type=\"file\" id=\"files-8832c5bc-9733-46d7-bc54-335ad1ff5fed\" name=\"files[]\" multiple disabled\n",
              "        style=\"border:none\" />\n",
              "     <output id=\"result-8832c5bc-9733-46d7-bc54-335ad1ff5fed\">\n",
              "      Upload widget is only available when the cell has been executed in the\n",
              "      current browser session. Please rerun this cell to enable.\n",
              "      </output>\n",
              "      <script src=\"/nbextensions/google.colab/files.js\"></script> "
            ],
            "text/plain": [
              "<IPython.core.display.HTML object>"
            ]
          },
          "metadata": {
            "tags": []
          }
        },
        {
          "output_type": "stream",
          "text": [
            "Saving HTRU_2.csv to HTRU_2.csv\n",
            "User uploaded file \"HTRU_2.csv\" with length 1730114 bytes\n"
          ],
          "name": "stdout"
        }
      ]
    },
    {
      "cell_type": "code",
      "metadata": {
        "id": "PqovauU_HoED",
        "colab_type": "code",
        "colab": {}
      },
      "source": [
        "import numpy as np\n",
        "import matplotlib.pyplot as plt\n",
        "import pandas as pd\n",
        "from pandas import DataFrame as df\n",
        "\n",
        "import seaborn as sns\n",
        "%matplotlib inline\n",
        "\n",
        "\n",
        "import csv"
      ],
      "execution_count": 7,
      "outputs": []
    },
    {
      "cell_type": "markdown",
      "metadata": {
        "id": "53xu48insb4Z",
        "colab_type": "text"
      },
      "source": [
        "# New Section"
      ]
    },
    {
      "cell_type": "code",
      "metadata": {
        "id": "Bh2RIRATH0xm",
        "colab_type": "code",
        "colab": {}
      },
      "source": [
        "\n",
        "\n",
        "Data  = pd.read_csv('HTRU_2.csv')\n",
        "\n",
        "Data.columns\n",
        "\n",
        "df = pd.read_csv('HTRU_2.csv')\n",
        "\n",
        "\n"
      ],
      "execution_count": 8,
      "outputs": []
    },
    {
      "cell_type": "code",
      "metadata": {
        "id": "whKGYEmRIYF7",
        "colab_type": "code",
        "colab": {
          "base_uri": "https://localhost:8080/",
          "height": 34
        },
        "outputId": "3c13860e-8a34-4d4d-c754-85ef4a369d3d"
      },
      "source": [
        "print(df.shape)"
      ],
      "execution_count": 9,
      "outputs": [
        {
          "output_type": "stream",
          "text": [
            "(17897, 9)\n"
          ],
          "name": "stdout"
        }
      ]
    },
    {
      "cell_type": "code",
      "metadata": {
        "id": "eRFFsYaBIjw9",
        "colab_type": "code",
        "colab": {
          "base_uri": "https://localhost:8080/",
          "height": 68
        },
        "outputId": "a6902d82-c040-4c20-fc46-2797b36d5f68"
      },
      "source": [
        "df.columns"
      ],
      "execution_count": 10,
      "outputs": [
        {
          "output_type": "execute_result",
          "data": {
            "text/plain": [
              "Index(['140.5625', '55.68378214', '-0.234571412', '-0.699648398',\n",
              "       '3.199832776', '19.11042633', '7.975531794', '74.24222492', '0'],\n",
              "      dtype='object')"
            ]
          },
          "metadata": {
            "tags": []
          },
          "execution_count": 10
        }
      ]
    },
    {
      "cell_type": "code",
      "metadata": {
        "id": "7WGrAbu2Ij53",
        "colab_type": "code",
        "colab": {
          "base_uri": "https://localhost:8080/",
          "height": 348
        },
        "outputId": "5c24e191-d988-4763-ee10-1e4f7a298500"
      },
      "source": [
        "df.corr()"
      ],
      "execution_count": 11,
      "outputs": [
        {
          "output_type": "execute_result",
          "data": {
            "text/html": [
              "<div>\n",
              "<style scoped>\n",
              "    .dataframe tbody tr th:only-of-type {\n",
              "        vertical-align: middle;\n",
              "    }\n",
              "\n",
              "    .dataframe tbody tr th {\n",
              "        vertical-align: top;\n",
              "    }\n",
              "\n",
              "    .dataframe thead th {\n",
              "        text-align: right;\n",
              "    }\n",
              "</style>\n",
              "<table border=\"1\" class=\"dataframe\">\n",
              "  <thead>\n",
              "    <tr style=\"text-align: right;\">\n",
              "      <th></th>\n",
              "      <th>140.5625</th>\n",
              "      <th>55.68378214</th>\n",
              "      <th>-0.234571412</th>\n",
              "      <th>-0.699648398</th>\n",
              "      <th>3.199832776</th>\n",
              "      <th>19.11042633</th>\n",
              "      <th>7.975531794</th>\n",
              "      <th>74.24222492</th>\n",
              "      <th>0</th>\n",
              "    </tr>\n",
              "  </thead>\n",
              "  <tbody>\n",
              "    <tr>\n",
              "      <th>140.5625</th>\n",
              "      <td>1.000000</td>\n",
              "      <td>0.547099</td>\n",
              "      <td>-0.873899</td>\n",
              "      <td>-0.738780</td>\n",
              "      <td>-0.298832</td>\n",
              "      <td>-0.307005</td>\n",
              "      <td>0.234345</td>\n",
              "      <td>0.144057</td>\n",
              "      <td>-0.673187</td>\n",
              "    </tr>\n",
              "    <tr>\n",
              "      <th>55.68378214</th>\n",
              "      <td>0.547099</td>\n",
              "      <td>1.000000</td>\n",
              "      <td>-0.521418</td>\n",
              "      <td>-0.539792</td>\n",
              "      <td>0.006893</td>\n",
              "      <td>-0.047606</td>\n",
              "      <td>0.029436</td>\n",
              "      <td>0.027714</td>\n",
              "      <td>-0.363704</td>\n",
              "    </tr>\n",
              "    <tr>\n",
              "      <th>-0.234571412</th>\n",
              "      <td>-0.873899</td>\n",
              "      <td>-0.521418</td>\n",
              "      <td>1.000000</td>\n",
              "      <td>0.945730</td>\n",
              "      <td>0.414362</td>\n",
              "      <td>0.432873</td>\n",
              "      <td>-0.341216</td>\n",
              "      <td>-0.214505</td>\n",
              "      <td>0.791592</td>\n",
              "    </tr>\n",
              "    <tr>\n",
              "      <th>-0.699648398</th>\n",
              "      <td>-0.738780</td>\n",
              "      <td>-0.539792</td>\n",
              "      <td>0.945730</td>\n",
              "      <td>1.000000</td>\n",
              "      <td>0.412052</td>\n",
              "      <td>0.415135</td>\n",
              "      <td>-0.328846</td>\n",
              "      <td>-0.204790</td>\n",
              "      <td>0.709526</td>\n",
              "    </tr>\n",
              "    <tr>\n",
              "      <th>3.199832776</th>\n",
              "      <td>-0.298832</td>\n",
              "      <td>0.006893</td>\n",
              "      <td>0.414362</td>\n",
              "      <td>0.412052</td>\n",
              "      <td>1.000000</td>\n",
              "      <td>0.796554</td>\n",
              "      <td>-0.615974</td>\n",
              "      <td>-0.354276</td>\n",
              "      <td>0.400873</td>\n",
              "    </tr>\n",
              "    <tr>\n",
              "      <th>19.11042633</th>\n",
              "      <td>-0.307005</td>\n",
              "      <td>-0.047606</td>\n",
              "      <td>0.432873</td>\n",
              "      <td>0.415135</td>\n",
              "      <td>0.796554</td>\n",
              "      <td>1.000000</td>\n",
              "      <td>-0.809791</td>\n",
              "      <td>-0.575809</td>\n",
              "      <td>0.491532</td>\n",
              "    </tr>\n",
              "    <tr>\n",
              "      <th>7.975531794</th>\n",
              "      <td>0.234345</td>\n",
              "      <td>0.029436</td>\n",
              "      <td>-0.341216</td>\n",
              "      <td>-0.328846</td>\n",
              "      <td>-0.615974</td>\n",
              "      <td>-0.809791</td>\n",
              "      <td>1.000000</td>\n",
              "      <td>0.923744</td>\n",
              "      <td>-0.390819</td>\n",
              "    </tr>\n",
              "    <tr>\n",
              "      <th>74.24222492</th>\n",
              "      <td>0.144057</td>\n",
              "      <td>0.027714</td>\n",
              "      <td>-0.214505</td>\n",
              "      <td>-0.204790</td>\n",
              "      <td>-0.354276</td>\n",
              "      <td>-0.575809</td>\n",
              "      <td>0.923744</td>\n",
              "      <td>1.000000</td>\n",
              "      <td>-0.259123</td>\n",
              "    </tr>\n",
              "    <tr>\n",
              "      <th>0</th>\n",
              "      <td>-0.673187</td>\n",
              "      <td>-0.363704</td>\n",
              "      <td>0.791592</td>\n",
              "      <td>0.709526</td>\n",
              "      <td>0.400873</td>\n",
              "      <td>0.491532</td>\n",
              "      <td>-0.390819</td>\n",
              "      <td>-0.259123</td>\n",
              "      <td>1.000000</td>\n",
              "    </tr>\n",
              "  </tbody>\n",
              "</table>\n",
              "</div>"
            ],
            "text/plain": [
              "              140.5625  55.68378214  ...  74.24222492         0\n",
              "140.5625      1.000000     0.547099  ...     0.144057 -0.673187\n",
              "55.68378214   0.547099     1.000000  ...     0.027714 -0.363704\n",
              "-0.234571412 -0.873899    -0.521418  ...    -0.214505  0.791592\n",
              "-0.699648398 -0.738780    -0.539792  ...    -0.204790  0.709526\n",
              "3.199832776  -0.298832     0.006893  ...    -0.354276  0.400873\n",
              "19.11042633  -0.307005    -0.047606  ...    -0.575809  0.491532\n",
              "7.975531794   0.234345     0.029436  ...     0.923744 -0.390819\n",
              "74.24222492   0.144057     0.027714  ...     1.000000 -0.259123\n",
              "0            -0.673187    -0.363704  ...    -0.259123  1.000000\n",
              "\n",
              "[9 rows x 9 columns]"
            ]
          },
          "metadata": {
            "tags": []
          },
          "execution_count": 11
        }
      ]
    },
    {
      "cell_type": "code",
      "metadata": {
        "id": "z9QoFiiOIkDx",
        "colab_type": "code",
        "colab": {}
      },
      "source": [
        "def plot_corr(df, size=1000):\n",
        "    \"\"\"\n",
        "    Function plots a graphical correlation matrix for each pair of columns in the dataframe.\n",
        "\n",
        "    Input:\n",
        "        df: pandas DataFrame\n",
        "        size: vertical and horizontal size of the plot\n",
        "\n",
        "    Displays:\n",
        "        matrix of correlation between columns.  Blue-cyan-yellow-red-darkred => less to more correlated\n",
        "                                                0 ------------------>  1\n",
        "                                                Expect a darkred line running from top left to bottom right\n",
        "    \"\"\"\n",
        "\n",
        "    corr = df.corr()    # data frame correlation function\n",
        "    fig, ax = plt.subplots(figsize=(10, 10))\n",
        "    ax.matshow(corr)   # color code the rectangles by correlation value\n",
        "    plt.xticks(range(len(corr.columns)), corr.columns)  # draw x tick marks\n",
        "    plt.yticks(range(len(corr.columns)), corr.columns)  # draw y tick marks"
      ],
      "execution_count": 12,
      "outputs": []
    },
    {
      "cell_type": "code",
      "metadata": {
        "id": "S3F4U8KEIukN",
        "colab_type": "code",
        "colab": {
          "base_uri": "https://localhost:8080/",
          "height": 595
        },
        "outputId": "b5e988a3-5524-42f5-bd83-b731f1dc6667"
      },
      "source": [
        "plot_corr(df)"
      ],
      "execution_count": 13,
      "outputs": [
        {
          "output_type": "display_data",
          "data": {
            "image/png": "[encoded data removed]",
            "text/plain": [
              "<Figure size 720x720 with 1 Axes>"
            ]
          },
          "metadata": {
            "tags": [],
            "needs_background": "light"
          }
        }
      ]
    },
    {
      "cell_type": "code",
      "metadata": {
        "id": "wC44rysOIute",
        "colab_type": "code",
        "colab": {
          "base_uri": "https://localhost:8080/",
          "height": 187
        },
        "outputId": "62dcf7e4-b9ed-4926-bf8e-5f8e8e2b9185"
      },
      "source": [
        "df.dtypes"
      ],
      "execution_count": 14,
      "outputs": [
        {
          "output_type": "execute_result",
          "data": {
            "text/plain": [
              "140.5625        float64\n",
              "55.68378214     float64\n",
              "-0.234571412    float64\n",
              "-0.699648398    float64\n",
              "3.199832776     float64\n",
              "19.11042633     float64\n",
              "7.975531794     float64\n",
              "74.24222492     float64\n",
              "0                 int64\n",
              "dtype: object"
            ]
          },
          "metadata": {
            "tags": []
          },
          "execution_count": 14
        }
      ]
    },
    {
      "cell_type": "code",
      "metadata": {
        "id": "p7zoUfBUI-nw",
        "colab_type": "code",
        "colab": {
          "base_uri": "https://localhost:8080/",
          "height": 204
        },
        "outputId": "c9f9f41c-a696-4887-c90f-c45f24db07d8"
      },
      "source": [
        "df.dropna()\n",
        "df.head()"
      ],
      "execution_count": null,
      "outputs": [
        {
          "output_type": "execute_result",
          "data": {
            "text/html": [
              "<div>\n",
              "<style scoped>\n",
              "    .dataframe tbody tr th:only-of-type {\n",
              "        vertical-align: middle;\n",
              "    }\n",
              "\n",
              "    .dataframe tbody tr th {\n",
              "        vertical-align: top;\n",
              "    }\n",
              "\n",
              "    .dataframe thead th {\n",
              "        text-align: right;\n",
              "    }\n",
              "</style>\n",
              "<table border=\"1\" class=\"dataframe\">\n",
              "  <thead>\n",
              "    <tr style=\"text-align: right;\">\n",
              "      <th></th>\n",
              "      <th>140.5625</th>\n",
              "      <th>55.68378214</th>\n",
              "      <th>-0.234571412</th>\n",
              "      <th>-0.699648398</th>\n",
              "      <th>3.199832776</th>\n",
              "      <th>19.11042633</th>\n",
              "      <th>7.975531794</th>\n",
              "      <th>74.24222492</th>\n",
              "      <th>0</th>\n",
              "    </tr>\n",
              "  </thead>\n",
              "  <tbody>\n",
              "    <tr>\n",
              "      <th>0</th>\n",
              "      <td>102.507812</td>\n",
              "      <td>58.882430</td>\n",
              "      <td>0.465318</td>\n",
              "      <td>-0.515088</td>\n",
              "      <td>1.677258</td>\n",
              "      <td>14.860146</td>\n",
              "      <td>10.576487</td>\n",
              "      <td>127.393580</td>\n",
              "      <td>0</td>\n",
              "    </tr>\n",
              "    <tr>\n",
              "      <th>1</th>\n",
              "      <td>103.015625</td>\n",
              "      <td>39.341649</td>\n",
              "      <td>0.323328</td>\n",
              "      <td>1.051164</td>\n",
              "      <td>3.121237</td>\n",
              "      <td>21.744669</td>\n",
              "      <td>7.735822</td>\n",
              "      <td>63.171909</td>\n",
              "      <td>0</td>\n",
              "    </tr>\n",
              "    <tr>\n",
              "      <th>2</th>\n",
              "      <td>136.750000</td>\n",
              "      <td>57.178449</td>\n",
              "      <td>-0.068415</td>\n",
              "      <td>-0.636238</td>\n",
              "      <td>3.642977</td>\n",
              "      <td>20.959280</td>\n",
              "      <td>6.896499</td>\n",
              "      <td>53.593661</td>\n",
              "      <td>0</td>\n",
              "    </tr>\n",
              "    <tr>\n",
              "      <th>3</th>\n",
              "      <td>88.726562</td>\n",
              "      <td>40.672225</td>\n",
              "      <td>0.600866</td>\n",
              "      <td>1.123492</td>\n",
              "      <td>1.178930</td>\n",
              "      <td>11.468720</td>\n",
              "      <td>14.269573</td>\n",
              "      <td>252.567306</td>\n",
              "      <td>0</td>\n",
              "    </tr>\n",
              "    <tr>\n",
              "      <th>4</th>\n",
              "      <td>93.570312</td>\n",
              "      <td>46.698114</td>\n",
              "      <td>0.531905</td>\n",
              "      <td>0.416721</td>\n",
              "      <td>1.636288</td>\n",
              "      <td>14.545074</td>\n",
              "      <td>10.621748</td>\n",
              "      <td>131.394004</td>\n",
              "      <td>0</td>\n",
              "    </tr>\n",
              "  </tbody>\n",
              "</table>\n",
              "</div>"
            ],
            "text/plain": [
              "     140.5625  55.68378214  -0.234571412  ...  7.975531794  74.24222492  0\n",
              "0  102.507812    58.882430      0.465318  ...    10.576487   127.393580  0\n",
              "1  103.015625    39.341649      0.323328  ...     7.735822    63.171909  0\n",
              "2  136.750000    57.178449     -0.068415  ...     6.896499    53.593661  0\n",
              "3   88.726562    40.672225      0.600866  ...    14.269573   252.567306  0\n",
              "4   93.570312    46.698114      0.531905  ...    10.621748   131.394004  0\n",
              "\n",
              "[5 rows x 9 columns]"
            ]
          },
          "metadata": {
            "tags": []
          },
          "execution_count": 39
        }
      ]
    },
    {
      "cell_type": "code",
      "metadata": {
        "id": "vZmNwaFRI-t4",
        "colab_type": "code",
        "colab": {
          "base_uri": "https://localhost:8080/",
          "height": 1000
        },
        "outputId": "de5817e5-dac0-4048-9ff4-ed473eabd76b"
      },
      "source": [
        "# Getting the X_data\n",
        "\n",
        "X_data = df.iloc[:,0: -1].values\n",
        "X_data[0:60]"
      ],
      "execution_count": 15,
      "outputs": [
        {
          "output_type": "execute_result",
          "data": {
            "text/plain": [
              "array([[ 1.02507812e+02,  5.88824300e+01,  4.65318154e-01,\n",
              "        -5.15087909e-01,  1.67725752e+00,  1.48601457e+01,\n",
              "         1.05764867e+01,  1.27393580e+02],\n",
              "       [ 1.03015625e+02,  3.93416494e+01,  3.23328365e-01,\n",
              "         1.05116443e+00,  3.12123746e+00,  2.17446687e+01,\n",
              "         7.73582202e+00,  6.31719091e+01],\n",
              "       [ 1.36750000e+02,  5.71784487e+01, -6.84146380e-02,\n",
              "        -6.36238369e-01,  3.64297659e+00,  2.09592803e+01,\n",
              "         6.89649891e+00,  5.35936607e+01],\n",
              "       [ 8.87265625e+01,  4.06722254e+01,  6.00866079e-01,\n",
              "         1.12349169e+00,  1.17892977e+00,  1.14687196e+01,\n",
              "         1.42695728e+01,  2.52567306e+02],\n",
              "       [ 9.35703125e+01,  4.66981135e+01,  5.31904850e-01,\n",
              "         4.16721117e-01,  1.63628763e+00,  1.45450743e+01,\n",
              "         1.06217484e+01,  1.31394004e+02],\n",
              "       [ 1.19484375e+02,  4.87650593e+01,  3.14602200e-02,\n",
              "        -1.12167573e-01,  9.99163880e-01,  9.27961224e+00,\n",
              "         1.92062302e+01,  4.79756567e+02],\n",
              "       [ 1.30382812e+02,  3.98440556e+01, -1.58322759e-01,\n",
              "         3.89540448e-01,  1.22073579e+00,  1.43789412e+01,\n",
              "         1.35394560e+01,  1.98236457e+02],\n",
              "       [ 1.07250000e+02,  5.26270783e+01,  4.52688025e-01,\n",
              "         1.70347382e-01,  2.33193980e+00,  1.44868531e+01,\n",
              "         9.00100444e+00,  1.07972506e+02],\n",
              "       [ 1.07257812e+02,  3.94964884e+01,  4.65881961e-01,\n",
              "         1.16287712e+00,  4.07943144e+00,  2.49804180e+01,\n",
              "         7.39707995e+00,  5.77847379e+01],\n",
              "       [ 1.42078125e+02,  4.52880726e+01, -3.20328426e-01,\n",
              "         2.83952506e-01,  5.37625418e+00,  2.90098975e+01,\n",
              "         6.07626585e+00,  3.78313933e+01],\n",
              "       [ 1.33257812e+02,  4.40582438e+01, -8.10598620e-02,\n",
              "         1.15361506e-01,  1.63210702e+00,  1.20078057e+01,\n",
              "         1.19720666e+01,  1.95543448e+02],\n",
              "       [ 1.34960938e+02,  4.95543266e+01, -1.35303833e-01,\n",
              "        -8.04696020e-02,  1.06964883e+01,  4.13420436e+01,\n",
              "         3.89393414e+00,  1.41312062e+01],\n",
              "       [ 1.17945312e+02,  4.55065772e+01,  3.25437564e-01,\n",
              "         6.61459458e-01,  2.83612040e+00,  2.31183497e+01,\n",
              "         8.94321191e+00,  8.24755919e+01],\n",
              "       [ 1.38179688e+02,  5.15244835e+01, -3.18523290e-02,\n",
              "         4.67971730e-02,  6.33026756e+00,  3.15763467e+01,\n",
              "         5.15593986e+00,  2.61433102e+01],\n",
              "       [ 1.14367188e+02,  5.19457155e+01, -9.44989040e-02,\n",
              "        -2.87984087e-01,  2.73829431e+00,  1.71918908e+01,\n",
              "         9.05061245e+00,  9.66119032e+01],\n",
              "       [ 1.09640625e+02,  4.90176522e+01,  1.37635830e-01,\n",
              "        -2.56699775e-01,  1.50836120e+00,  1.20729013e+01,\n",
              "         1.33679256e+01,  2.23438419e+02],\n",
              "       [ 1.00851562e+02,  5.17435216e+01,  3.93836792e-01,\n",
              "        -1.12407410e-02,  2.84113712e+00,  2.16357775e+01,\n",
              "         8.30224189e+00,  7.15843690e+01],\n",
              "       [ 1.36093750e+02,  5.16910046e+01, -4.59089260e-02,\n",
              "        -2.71816393e-01,  9.34280937e+00,  3.80963996e+01,\n",
              "         4.34543814e+00,  1.86736485e+01],\n",
              "       [ 9.93671875e+01,  4.15722021e+01,  1.54719697e+00,\n",
              "         4.15410604e+00,  2.75551839e+01,  6.17190159e+01,\n",
              "         2.20880796e+00,  3.66268014e+00],\n",
              "       [ 1.00890625e+02,  5.18903945e+01,  6.27486528e-01,\n",
              "        -2.64978020e-02,  3.88377926e+00,  2.30452667e+01,\n",
              "         6.95316763e+00,  5.22794404e+01],\n",
              "       [ 1.05445312e+02,  4.11399685e+01,  1.42653801e-01,\n",
              "         3.20419676e-01,  3.55183947e+00,  2.07550168e+01,\n",
              "         7.73955230e+00,  6.85197706e+01],\n",
              "       [ 9.58671875e+01,  4.20599221e+01,  3.26386917e-01,\n",
              "         8.03501794e-01,  1.83277592e+00,  1.22489695e+01,\n",
              "         1.12493310e+01,  1.77230771e+02],\n",
              "       [ 1.17367188e+02,  5.39086135e+01,  2.57953441e-01,\n",
              "        -4.05049077e-01,  6.01839465e+00,  2.47661234e+01,\n",
              "         4.80778322e+00,  2.55226156e+01],\n",
              "       [ 1.06648438e+02,  5.63671821e+01,  3.78355072e-01,\n",
              "        -2.66371607e-01,  2.43645485e+00,  1.84053706e+01,\n",
              "         9.37865968e+00,  9.68602254e+01],\n",
              "       [ 1.12718750e+02,  5.03012701e+01,  2.79390953e-01,\n",
              "        -1.29010712e-01,  8.28177257e+00,  3.78100122e+01,\n",
              "         4.69182685e+00,  2.12762098e+01],\n",
              "       [ 1.30851562e+02,  5.24328573e+01,  1.42596727e-01,\n",
              "         1.88854420e-02,  2.64632107e+00,  1.56544360e+01,\n",
              "         9.46416403e+00,  1.15673159e+02],\n",
              "       [ 1.19437500e+02,  5.28748153e+01, -2.54926700e-03,\n",
              "        -4.60360287e-01,  2.36538461e+00,  1.64980319e+01,\n",
              "         9.00835190e+00,  9.47556569e+01],\n",
              "       [ 1.23210938e+02,  5.10780121e+01,  1.79376819e-01,\n",
              "        -1.77285160e-01,  2.10702341e+00,  1.69217731e+01,\n",
              "         1.00803333e+01,  1.12558591e+02],\n",
              "       [ 1.02617188e+02,  4.96923537e+01,  2.30438984e-01,\n",
              "         1.93325371e-01,  1.48913044e+00,  1.60044115e+01,\n",
              "         1.26465347e+01,  1.71832902e+02],\n",
              "       [ 1.10109375e+02,  4.13181699e+01,  9.48603980e-02,\n",
              "         6.83112610e-01,  1.01003344e+00,  1.30262752e+01,\n",
              "         1.46665108e+01,  2.31204136e+02],\n",
              "       [ 9.99140625e+01,  4.39194980e+01,  4.75728501e-01,\n",
              "         7.81486196e-01,  6.19565217e-01,  9.44097586e+00,\n",
              "         2.01066391e+01,  4.75680218e+02],\n",
              "       [ 1.28343750e+02,  5.21721066e+01, -4.92804010e-02,\n",
              "        -2.08256987e-01,  2.17391304e+00,  1.29939472e+01,\n",
              "         9.96575736e+00,  1.41510084e+02],\n",
              "       [ 1.42054688e+02,  5.38731596e+01, -4.70772686e-01,\n",
              "        -1.25946417e-01,  4.42307692e+00,  2.70835127e+01,\n",
              "         6.68165831e+00,  4.59440301e+01],\n",
              "       [ 1.21132812e+02,  4.76326062e+01,  1.77360308e-01,\n",
              "         2.49181110e-02,  2.15133779e+00,  2.05524374e+01,\n",
              "         9.92046818e+00,  9.97470792e+01],\n",
              "       [ 1.02328125e+02,  4.89804026e+01,  3.15729409e-01,\n",
              "        -2.02183315e-01,  1.89882943e+00,  1.38390400e+01,\n",
              "         1.16199387e+01,  1.72130373e+02],\n",
              "       [ 1.47835938e+02,  5.36226365e+01, -1.31079596e-01,\n",
              "        -2.88851172e-01,  2.69230769e+00,  1.70808810e+01,\n",
              "         8.84917797e+00,  9.22017450e+01],\n",
              "       [ 1.08039062e+02,  3.49102426e+01,  3.21156562e-01,\n",
              "         1.82163149e+00,  3.89966555e+00,  2.37220520e+01,\n",
              "         7.50620996e+00,  6.08869127e+01],\n",
              "       [ 1.07875000e+02,  3.73306593e+01,  4.96004760e-01,\n",
              "         1.48181586e+00,  1.17391304e+00,  1.20169135e+01,\n",
              "         1.45342897e+01,  2.52694738e+02],\n",
              "       [ 1.18843750e+02,  4.59319193e+01, -1.09242666e-01,\n",
              "         1.37683548e-01,  2.33277592e+00,  1.47160287e+01,\n",
              "         9.63417505e+00,  1.18669680e+02],\n",
              "       [ 1.38460938e+02,  4.89171657e+01, -3.95919160e-02,\n",
              "        -1.76243068e-01,  2.44314381e+00,  1.83133067e+01,\n",
              "         8.67289405e+00,  8.30692421e+01],\n",
              "       [ 1.16203125e+02,  4.73458617e+01,  2.11946824e-01,\n",
              "        -2.21777030e-02,  3.60618729e+00,  1.89449898e+01,\n",
              "         7.03564468e+00,  5.92312257e+01],\n",
              "       [ 1.20554688e+02,  4.55499054e+01,  2.82923998e-01,\n",
              "         4.19908714e-01,  1.35869565e+00,  1.30790342e+01,\n",
              "         1.33121414e+01,  2.12597029e+02],\n",
              "       [ 1.21882812e+02,  5.30426746e+01,  2.00520721e-01,\n",
              "        -2.82219034e-01,  2.11622074e+00,  1.65808762e+01,\n",
              "         8.94760279e+00,  9.10117616e+01],\n",
              "       [ 1.25210938e+02,  5.11751973e+01,  1.39851288e-01,\n",
              "        -3.85736754e-01,  1.14799331e+00,  1.24140121e+01,\n",
              "         1.40687973e+01,  2.28131554e+02],\n",
              "       [ 1.07906250e+02,  4.80841446e+01,  4.60846577e-01,\n",
              "         2.96510050e-01,  1.99331104e+00,  1.38410695e+01,\n",
              "         9.96939541e+00,  1.28744717e+02],\n",
              "       [ 1.06281250e+02,  4.30217855e+01,  4.08868006e-01,\n",
              "         1.03201467e+00,  1.61036789e+00,  1.72511555e+01,\n",
              "         1.21101933e+01,  1.52014956e+02],\n",
              "       [ 1.06335938e+02,  4.50500203e+01,  4.18645099e-01,\n",
              "         6.03995884e-01,  1.20066890e+00,  1.23885614e+01,\n",
              "         1.33064518e+01,  2.09411990e+02],\n",
              "       [ 1.25734375e+02,  5.26577221e+01,  2.65166730e-02,\n",
              "        -4.29632907e-01,  4.85033445e+00,  2.99361948e+01,\n",
              "         6.36183731e+00,  4.02550127e+01],\n",
              "       [ 1.13546875e+02,  4.95002935e+01,  1.30001201e-01,\n",
              "        -2.02839025e-01,  2.40719064e+00,  1.44220514e+01,\n",
              "         9.31034332e+00,  1.13687471e+02],\n",
              "       [ 1.34039062e+02,  5.18004588e+01, -1.95844789e-01,\n",
              "        -3.96816077e-01,  1.10785953e+00,  1.32385840e+01,\n",
              "         1.37758004e+01,  2.08420257e+02],\n",
              "       [ 1.05117188e+02,  4.50920276e+01,  4.64847891e-01,\n",
              "         8.78058377e-01,  4.28344482e+00,  2.39673153e+01,\n",
              "         6.56254301e+00,  4.66672873e+01],\n",
              "       [ 9.53281250e+01,  4.46678907e+01,  3.86495074e-01,\n",
              "         7.55115427e-01,  2.69481605e+00,  1.79985973e+01,\n",
              "         9.09417709e+00,  9.78024363e+01],\n",
              "       [ 1.19335938e+02,  4.75069530e+01,  2.20316758e-01,\n",
              "         6.45717725e-01,  7.92642140e-01,  9.54090714e+00,\n",
              "         1.87665398e+01,  4.41513343e+02],\n",
              "       [ 1.36187500e+02,  5.19529159e+01, -7.04317740e-02,\n",
              "        -4.82219687e-01,  8.49498328e-01,  9.67753103e+00,\n",
              "         1.87365541e+01,  4.31390445e+02],\n",
              "       [ 1.12859375e+02,  5.51062517e+01,  1.74766173e-01,\n",
              "        -4.04019163e-01,  3.03260870e+00,  1.96943137e+01,\n",
              "         7.26625226e+00,  5.80377707e+01],\n",
              "       [ 1.08625000e+02,  5.27461492e+01,  4.53556415e-01,\n",
              "         6.97315280e-02,  2.30434783e+00,  1.61836559e+01,\n",
              "         9.78044057e+00,  1.14999384e+02],\n",
              "       [ 1.13953125e+02,  4.92214161e+01,  2.34723211e-01,\n",
              "         2.89792216e-01,  1.08110368e+00,  1.34820931e+01,\n",
              "         1.42560811e+01,  2.16836220e+02],\n",
              "       [ 1.41968750e+02,  5.04708978e+01,  2.44974491e-01,\n",
              "        -3.42664657e-01,  2.82357859e+00,  1.62381878e+01,\n",
              "         8.20774361e+00,  8.55325835e+01],\n",
              "       [ 1.36500000e+02,  4.99327673e+01,  4.46232670e-02,\n",
              "        -3.74311456e-01,  1.55518395e+00,  1.28135379e+01,\n",
              "         1.33143391e+01,  2.14813089e+02],\n",
              "       [ 8.36796875e+01,  3.63792810e+01,  5.72531753e-01,\n",
              "         2.66461052e+00,  4.04096990e+00,  2.31691286e+01,\n",
              "         7.00668142e+00,  5.35140047e+01]])"
            ]
          },
          "metadata": {
            "tags": []
          },
          "execution_count": 15
        }
      ]
    },
    {
      "cell_type": "code",
      "metadata": {
        "id": "Tag87mVQI-1d",
        "colab_type": "code",
        "colab": {
          "base_uri": "https://localhost:8080/",
          "height": 68
        },
        "outputId": "fa3eccba-0d73-4700-e54d-6a03d61c9ff8"
      },
      "source": [
        "Y_data = df.iloc[:, -1].values\n",
        "Y_data[0: 50]"
      ],
      "execution_count": 16,
      "outputs": [
        {
          "output_type": "execute_result",
          "data": {
            "text/plain": [
              "array([0, 0, 0, 0, 0, 0, 0, 0, 0, 0, 0, 0, 0, 0, 0, 0, 0, 0, 1, 0, 0, 0,\n",
              "       0, 0, 0, 0, 0, 0, 0, 0, 0, 0, 0, 0, 0, 0, 0, 0, 0, 0, 0, 1, 0, 0,\n",
              "       0, 0, 0, 0, 0, 0])"
            ]
          },
          "metadata": {
            "tags": []
          },
          "execution_count": 16
        }
      ]
    },
    {
      "cell_type": "code",
      "metadata": {
        "id": "Yt1AnQJjI-4c",
        "colab_type": "code",
        "colab": {}
      },
      "source": [
        "from sklearn.preprocessing import StandardScaler\n",
        "scaler = StandardScaler()"
      ],
      "execution_count": 17,
      "outputs": []
    },
    {
      "cell_type": "code",
      "metadata": {
        "id": "ZI-QV9CII_Cc",
        "colab_type": "code",
        "colab": {
          "base_uri": "https://localhost:8080/",
          "height": 1000
        },
        "outputId": "62b723af-38d0-4db4-b89b-d0266d324480"
      },
      "source": [
        "X_data = scaler.fit_transform(X_data)\n",
        "X_data[0:80]"
      ],
      "execution_count": 18,
      "outputs": [
        {
          "output_type": "execute_result",
          "data": {
            "text/plain": [
              "array([[-3.34106982e-01,  1.80237928e+00, -1.18219918e-02,\n",
              "        -3.70549173e-01, -3.71110424e-01, -5.88930618e-01,\n",
              "         5.04408854e-01,  2.11559965e-01],\n",
              "       [-3.14310758e-01, -1.05327065e+00, -1.45267732e-01,\n",
              "        -1.16612503e-01, -3.22116800e-01, -2.35343197e-01,\n",
              "        -1.25996658e-01, -3.91379493e-01],\n",
              "       [ 1.00076760e+00,  1.55336292e+00, -5.13438115e-01,\n",
              "        -3.90191311e-01, -3.04414413e-01, -2.75680556e-01,\n",
              "        -3.12260777e-01, -4.81304029e-01],\n",
              "       [-8.71346031e-01, -8.58822982e-01,  1.15569515e-01,\n",
              "        -1.04886075e-01, -3.88018473e-01, -7.63113435e-01,\n",
              "         1.32398528e+00,  1.38674239e+00],\n",
              "       [-6.82520515e-01,  2.17880509e-02,  5.07579373e-02,\n",
              "        -2.19474869e-01, -3.72500515e-01, -6.05112611e-01,\n",
              "         5.14453405e-01,  2.49117598e-01],\n",
              "       [ 3.27695997e-01,  3.23847299e-01, -4.19573095e-01,\n",
              "        -3.05223653e-01, -3.94117853e-01, -8.75545454e-01,\n",
              "         2.41953730e+00,  3.51968862e+00],\n",
              "       [ 7.52553409e-01, -9.79850032e-01, -5.97936133e-01,\n",
              "        -2.23881674e-01, -3.86600012e-01, -6.13645162e-01,\n",
              "         1.16195642e+00,  8.76662032e-01],\n",
              "       [-1.49240710e-01,  8.88234911e-01, -2.36921194e-02,\n",
              "        -2.59419471e-01, -3.48897333e-01, -6.08102835e-01,\n",
              "         1.54774940e-01,  2.92269342e-02],\n",
              "       [-1.48936153e-01, -1.03064280e+00, -1.12921112e-02,\n",
              "        -9.85005106e-02, -2.89605686e-01, -6.91559072e-02,\n",
              "        -2.01170917e-01, -4.41956472e-01],\n",
              "       [ 1.20847566e+00, -1.84272458e-01, -7.50193322e-01,\n",
              "        -2.41000659e-01, -2.45605042e-01,  1.37797175e-01,\n",
              "        -4.94288398e-01, -6.29286678e-01],\n",
              "       [ 8.64630489e-01, -3.63997144e-01, -5.25322429e-01,\n",
              "        -2.68334338e-01, -3.72642361e-01, -7.35426105e-01,\n",
              "         8.14118496e-01,  8.51378957e-01],\n",
              "       [ 9.31023977e-01,  4.39189224e-01, -5.76302340e-01,\n",
              "        -3.00084457e-01, -6.50917645e-02,  7.71173188e-01,\n",
              "        -9.78595443e-01, -8.51793783e-01],\n",
              "       [ 2.67698212e-01, -1.52340638e-01, -1.43285451e-01,\n",
              "        -1.79795414e-01, -3.31790700e-01, -1.64791279e-01,\n",
              "         1.41949517e-01, -2.10148579e-01],\n",
              "       [ 1.05650158e+00,  7.27103944e-01, -4.79075895e-01,\n",
              "        -2.79450681e-01, -2.13235775e-01,  2.69609382e-01,\n",
              "        -6.98528825e-01, -7.39019210e-01],\n",
              "       [ 1.28210976e-01,  7.88661934e-01, -5.37952794e-01,\n",
              "        -3.33728805e-01, -3.35109897e-01, -4.69172761e-01,\n",
              "         1.65784041e-01, -7.74310742e-02],\n",
              "       [-5.60461810e-02,  3.60760712e-01, -3.19786463e-01,\n",
              "        -3.28656676e-01, -3.76841004e-01, -7.32082808e-01,\n",
              "         1.12389006e+00,  1.11326842e+00],\n",
              "       [-3.98673126e-01,  7.59113728e-01, -7.90020568e-02,\n",
              "        -2.88860374e-01, -3.31620485e-01, -2.40935823e-01,\n",
              "        -2.95722841e-04, -3.12399859e-01],\n",
              "       [ 9.75184783e-01,  7.51439004e-01, -4.92286654e-01,\n",
              "        -3.31107535e-01, -1.11021514e-01,  6.04477702e-01,\n",
              "        -8.78396850e-01, -8.09147466e-01],\n",
              "       [-4.56539010e-01, -7.27302222e-01,  1.00495619e+00,\n",
              "         3.86467776e-01,  5.06916601e-01,  1.81772950e+00,\n",
              "        -1.35256173e+00, -9.50076612e-01],\n",
              "       [-3.97150339e-01,  7.80577427e-01,  1.40588113e-01,\n",
              "        -2.91334003e-01, -2.96244081e-01, -1.68544803e-01,\n",
              "        -2.99684750e-01, -4.93642470e-01],\n",
              "       [-2.19593443e-01, -7.90467956e-01, -3.15070442e-01,\n",
              "        -2.35088233e-01, -3.07506657e-01, -2.86171477e-01,\n",
              "        -1.25168827e-01, -3.41171569e-01],\n",
              "       [-5.92980673e-01, -6.56027807e-01, -1.42393224e-01,\n",
              "        -1.56766074e-01, -3.65833751e-01, -7.23039991e-01,\n",
              "         6.53727683e-01,  6.79452019e-01],\n",
              "       [ 2.45160973e-01,  1.07551585e+00, -2.06708806e-01,\n",
              "        -3.52708565e-01, -2.23817490e-01, -8.01620270e-02,\n",
              "        -7.75792382e-01, -7.44846546e-01],\n",
              "       [-1.72691621e-01,  1.43480607e+00, -9.35521847e-02,\n",
              "        -3.30224771e-01, -3.45351182e-01, -4.06848733e-01,\n",
              "         2.38584882e-01, -7.50997234e-02],\n",
              "       [ 6.39493890e-02,  5.48346025e-01, -1.86561268e-01,\n",
              "        -3.07954433e-01, -1.47022040e-01,  5.89768919e-01,\n",
              "        -8.01525633e-01, -7.84713551e-01],\n",
              "       [ 7.70826846e-01,  8.59851849e-01, -3.15124081e-01,\n",
              "        -2.83976013e-01, -3.38230510e-01, -5.48136064e-01,\n",
              "         2.57560163e-01,  1.01523832e-01],\n",
              "       [ 3.25868653e-01,  9.24438688e-01, -4.51536106e-01,\n",
              "        -3.61676178e-01, -3.47762565e-01, -5.04809185e-01,\n",
              "         1.56405502e-01, -9.48582776e-02],\n",
              "       [ 4.72969822e-01,  6.61857518e-01, -2.80557183e-01,\n",
              "        -3.15781175e-01, -3.56528650e-01, -4.83045938e-01,\n",
              "         3.94301584e-01,  7.22829930e-02],\n",
              "       [-3.29843180e-01,  4.59360222e-01, -2.32567617e-01,\n",
              "        -2.55694047e-01, -3.77493496e-01, -5.30161409e-01,\n",
              "         9.63797693e-01,  6.28774603e-01],\n",
              "       [-3.77727440e-02, -7.64425971e-01, -3.59987939e-01,\n",
              "        -1.76284786e-01, -3.93749053e-01, -6.83117759e-01,\n",
              "         1.41207448e+00,  1.18617617e+00],\n",
              "       [-4.35220000e-01, -3.84273174e-01, -2.03807375e-03,\n",
              "        -1.60335465e-01, -4.06997474e-01, -8.67257858e-01,\n",
              "         2.61935770e+00,  3.48141818e+00],\n",
              "       [ 6.73063957e-01,  8.21746272e-01, -4.95455255e-01,\n",
              "        -3.20802641e-01, -3.54259114e-01, -6.84778118e-01,\n",
              "         3.68874674e-01,  3.44091518e-01],\n",
              "       [ 1.20756199e+00,  1.07033469e+00, -8.91584796e-01,\n",
              "        -3.07457619e-01, -2.77945941e-01,  3.88585218e-02,\n",
              "        -3.59938596e-01, -5.53121907e-01],\n",
              "       [ 3.91957584e-01,  1.58352911e-01, -2.82452353e-01,\n",
              "        -2.82997935e-01, -3.55025082e-01, -2.96575909e-01,\n",
              "         3.58824016e-01, -4.79967522e-02],\n",
              "       [-3.41111799e-01,  3.55317128e-01, -1.52409431e-01,\n",
              "        -3.19817916e-01, -3.63592584e-01, -6.41374357e-01,\n",
              "         7.35973620e-01,  6.31567384e-01],\n",
              "       [ 1.43293438e+00,  1.03372376e+00, -5.72332291e-01,\n",
              "        -3.33869385e-01, -3.36670204e-01, -4.74874196e-01,\n",
              "         1.21081333e-01, -1.18835453e-01],\n",
              "       [-1.18480424e-01, -1.70086743e+00, -1.47308850e-01,\n",
              "         8.30341064e-03, -2.95705066e-01, -1.33785275e-01,\n",
              "        -1.76952586e-01, -4.12831979e-01],\n",
              "       [-1.24876127e-01, -1.34715265e+00,  1.70180880e-02,\n",
              "        -4.67909375e-02, -3.88188688e-01, -7.34958332e-01,\n",
              "         1.38273173e+00,  1.38793878e+00],\n",
              "       [ 3.02722300e-01, -9.01820140e-02, -5.51809370e-01,\n",
              "        -2.64715262e-01, -3.48868964e-01, -5.96332432e-01,\n",
              "         2.95289321e-01,  1.29656405e-01],\n",
              "       [ 1.06746564e+00,  3.46075822e-01, -4.86349762e-01,\n",
              "        -3.15612220e-01, -3.45124228e-01, -4.11577114e-01,\n",
              "         8.19600830e-02, -2.04575146e-01],\n",
              "       [ 1.99781938e-01,  1.16448645e-01, -2.49947035e-01,\n",
              "        -2.90633585e-01, -3.05662658e-01, -3.79134025e-01,\n",
              "        -2.81381292e-01, -4.28376249e-01],\n",
              "       [ 3.69420345e-01, -1.46008744e-01, -1.83240819e-01,\n",
              "        -2.18958064e-01, -3.81919093e-01, -6.80408068e-01,\n",
              "         1.11151035e+00,  1.01148500e+00],\n",
              "       [ 4.21195083e-01,  9.48969305e-01, -2.60685587e-01,\n",
              "        -3.32794116e-01, -3.56216589e-01, -5.00554320e-01,\n",
              "         1.42923949e-01, -1.30007507e-01],\n",
              "       [ 5.50936486e-01,  6.76059967e-01, -3.17704317e-01,\n",
              "        -3.49577456e-01, -3.89068133e-01, -7.14563442e-01,\n",
              "         1.27942880e+00,  1.15732950e+00],\n",
              "       [-1.23657898e-01,  2.24339813e-01, -1.60244975e-02,\n",
              "        -2.38964703e-01, -3.60386863e-01, -6.41270121e-01,\n",
              "         3.69682035e-01,  2.24244997e-01],\n",
              "       [-1.87005813e-01, -5.15463056e-01, -6.48753264e-02,\n",
              "        -1.19717256e-01, -3.73379961e-01, -4.66128938e-01,\n",
              "         8.44771822e-01,  4.42715576e-01],\n",
              "       [-1.84873912e-01, -2.19060933e-01, -5.56865571e-02,\n",
              "        -1.89111990e-01, -3.87280873e-01, -7.15870583e-01,\n",
              "         1.11024770e+00,  9.81582537e-01],\n",
              "       [ 5.71341824e-01,  8.92713123e-01, -4.24219171e-01,\n",
              "        -3.56694344e-01, -2.63449275e-01,  1.85371581e-01,\n",
              "        -4.30913857e-01, -6.06532742e-01],\n",
              "       [ 9.62324611e-02,  4.31292928e-01, -3.26961688e-01,\n",
              "        -3.19924226e-01, -3.46344104e-01, -6.11431034e-01,\n",
              "         2.23423990e-01,  8.28813837e-02],\n",
              "       [ 8.95086218e-01,  7.67434420e-01, -6.33200324e-01,\n",
              "        -3.51373748e-01, -3.90429855e-01, -6.72213633e-01,\n",
              "         1.21440639e+00,  9.72271745e-01],\n",
              "       [-2.32384849e-01, -2.12922076e-01, -1.22639574e-02,\n",
              "        -1.44678207e-01, -2.82683599e-01, -1.21188615e-01,\n",
              "        -3.86372882e-01, -5.46331671e-01],\n",
              "       [-6.13995126e-01, -2.74904584e-01, -8.59019966e-02,\n",
              "        -1.64610961e-01, -3.36585096e-01, -4.27740511e-01,\n",
              "         1.75451985e-01, -6.62538596e-02],\n",
              "       [ 3.21909409e-01,  1.39990207e-01, -2.42080751e-01,\n",
              "        -1.82347623e-01, -4.01125047e-01, -8.62125411e-01,\n",
              "         2.32196040e+00,  3.16064550e+00],\n",
              "       [ 9.78839471e-01,  7.89714180e-01, -5.15333872e-01,\n",
              "        -3.65220245e-01, -3.99195941e-01, -8.55108442e-01,\n",
              "         2.31530593e+00,  3.06560758e+00],\n",
              "       [ 6.94314201e-02,  1.25053626e+00, -2.84890389e-01,\n",
              "        -3.52541585e-01, -3.25123936e-01, -3.40648929e-01,\n",
              "        -2.30204437e-01, -4.39580896e-01],\n",
              "       [-9.56386280e-02,  9.05635677e-01, -2.28759836e-02,\n",
              "        -2.75732331e-01, -3.49833517e-01, -5.20955460e-01,\n",
              "         3.27748831e-01,  9.51981570e-02],\n",
              "       [ 1.12069440e-01,  3.90538358e-01, -2.28541187e-01,\n",
              "        -2.40053867e-01, -3.91337670e-01, -6.59707065e-01,\n",
              "         1.32099117e+00,  1.05128427e+00],\n",
              "       [ 1.20421186e+00,  5.73135071e-01, -2.18906765e-01,\n",
              "        -3.42594172e-01, -3.32216238e-01, -5.18154715e-01,\n",
              "        -2.12669536e-02, -1.81448284e-01],\n",
              "       [ 9.91021762e-01,  4.94493776e-01, -4.07202117e-01,\n",
              "        -3.47725071e-01, -3.75252329e-01, -6.94043894e-01,\n",
              "         1.11199806e+00,  1.03229028e+00],\n",
              "       [-1.06809004e+00, -1.48618514e+00,  8.89401698e-02,\n",
              "         1.44975697e-01, -2.90910670e-01, -1.62183285e-01,\n",
              "        -2.87808872e-01, -4.82051872e-01],\n",
              "       [-3.24780652e+00, -2.61338226e+00,  4.97373973e+00,\n",
              "         5.77971026e+00,  2.05266970e+00,  1.83576725e+00,\n",
              "        -1.56130183e+00, -9.74296459e-01],\n",
              "       [ 9.66048065e-01,  7.87428018e-01, -3.87329013e-01,\n",
              "        -3.46396047e-01,  2.76842314e-01,  1.35824624e+00,\n",
              "        -1.23669619e+00, -9.22429999e-01],\n",
              "       [ 3.95848062e-02,  3.30644237e-01, -5.57614049e-02,\n",
              "        -2.30267031e-01, -3.53237822e-01, -4.59579223e-01,\n",
              "         2.70073681e-01, -3.82279487e-02],\n",
              "       [ 6.15502631e-01,  9.61631354e-01, -3.21005117e-01,\n",
              "        -3.82485440e-01, -3.89011395e-01, -6.34897665e-01,\n",
              "         1.09339224e+00,  7.64302032e-01],\n",
              "       [ 2.51861233e-01,  1.73019182e-01, -2.86419402e-01,\n",
              "        -3.11463398e-01, -3.92046900e-01, -6.18246878e-01,\n",
              "         1.30330208e+00,  9.70936972e-01],\n",
              "       [ 1.24776355e+00,  4.92916558e-01, -5.97220412e-01,\n",
              "        -3.11897759e-01, -3.07109488e-01, -2.58793403e-01,\n",
              "        -2.14477992e-01, -4.28965700e-01],\n",
              "       [-3.81313361e-01, -1.03978119e+00, -8.25575175e-02,\n",
              "        -3.54169394e-02, -2.60896046e-01, -2.30927581e-04,\n",
              "        -4.92116269e-01, -6.17224312e-01],\n",
              "       [ 3.43837533e-01,  1.06337056e+00, -3.14389364e-01,\n",
              "        -3.72711948e-01, -2.90882300e-01, -8.97658843e-02,\n",
              "        -3.82211757e-01, -5.62928245e-01],\n",
              "       [ 4.69619692e-01,  5.52726717e-01, -5.30991053e-01,\n",
              "        -2.72781425e-01, -3.84557429e-01, -8.03177804e-01,\n",
              "         1.40545681e+00,  1.72567931e+00],\n",
              "       [-3.52075861e-01,  3.27565961e-01, -2.41259855e-02,\n",
              "        -2.42865930e-01, -3.47422134e-01, -6.36784778e-01,\n",
              "         1.82846945e-01,  1.04810373e-01],\n",
              "       [ 3.26173211e-01,  9.63638986e-01, -4.37082009e-01,\n",
              "        -3.48478090e-01, -3.28528241e-01, -4.31276138e-01,\n",
              "        -3.03720664e-03, -2.20748803e-01],\n",
              "       [ 6.79764218e-01,  1.22709575e+00, -4.60937651e-01,\n",
              "        -3.93764701e-01, -3.29918332e-01, -4.40357068e-01,\n",
              "         1.35410258e-01, -1.01181875e-01],\n",
              "       [ 6.65754583e-01,  5.08384680e-02, -6.17588197e-01,\n",
              "        -2.87981495e-01, -2.85719104e-01, -2.08970532e-01,\n",
              "        -4.10959051e-01, -5.48027740e-01],\n",
              "       [ 1.76940141e-01, -9.14625690e-01, -3.45099261e-01,\n",
              "        -2.03828803e-01, -3.30912962e-02,  7.00014961e-01,\n",
              "        -1.03488484e+00, -8.65375346e-01],\n",
              "       [ 1.00046304e+00, -3.15334113e-01, -6.57711418e-01,\n",
              "        -1.39810046e-01, -3.56585389e-01, -6.07510949e-01,\n",
              "         4.05672373e-01,  2.20963107e-01],\n",
              "       [ 9.42901711e-01,  2.33073237e-01, -4.34177320e-01,\n",
              "        -3.12779654e-01, -1.38284324e-01,  2.46935602e-01,\n",
              "        -9.36684563e-01, -8.22300396e-01],\n",
              "       [ 1.12373997e-01,  8.32744918e-01, -3.28864263e-01,\n",
              "        -3.61212344e-01, -2.78484956e-01, -1.49724088e-03,\n",
              "        -3.53745522e-01, -5.39399066e-01],\n",
              "       [-1.27921700e-01, -1.26947857e-01,  1.66708946e-01,\n",
              "        -1.32223267e-01, -3.70032394e-01, -5.71949286e-01,\n",
              "         7.13850608e-01,  4.26665215e-01],\n",
              "       [ 5.23221774e-01,  1.57896181e+00, -4.63095759e-01,\n",
              "        -3.76365758e-01, -2.65718812e-01,  6.03334629e-02,\n",
              "        -4.91140926e-01, -6.29411565e-01],\n",
              "       [ 3.20386622e-01, -1.38612332e-02, -2.58704041e-01,\n",
              "        -2.66225165e-01, -3.00839893e-01, -3.83960809e-01,\n",
              "        -4.19186403e-01, -5.07057416e-01]])"
            ]
          },
          "metadata": {
            "tags": []
          },
          "execution_count": 18
        }
      ]
    },
    {
      "cell_type": "code",
      "metadata": {
        "id": "HF03NilYI-_F",
        "colab_type": "code",
        "colab": {}
      },
      "source": [
        "#Splitting data into training and testing\n",
        "\n",
        "from sklearn.model_selection import train_test_split\n",
        "X_train, X_test, y_train, y_test = train_test_split(X_data, Y_data, test_size=0.2, random_state=1)\n",
        "X_train, X_val, y_train, y_val = train_test_split(X_train, y_train, test_size=0.2, random_state=1)\n"
      ],
      "execution_count": 19,
      "outputs": []
    },
    {
      "cell_type": "code",
      "metadata": {
        "id": "3t1zNtvtI-9H",
        "colab_type": "code",
        "colab": {}
      },
      "source": [
        "# Importing libraries for ANN creation\n",
        "from tensorflow import keras\n",
        "from keras.models import Sequential\n",
        "from keras.layers import Dense\n",
        "from keras.metrics import binary_crossentropy\n",
        "from tensorflow.python.keras.layers import Input, Dense\n",
        "from tensorflow.python.keras.models import Sequential\n",
        "import tensorflow as tf\n",
        "from tensorflow import keras\n",
        "\n",
        "from keras.optimizers import SGD"
      ],
      "execution_count": 21,
      "outputs": []
    },
    {
      "cell_type": "code",
      "metadata": {
        "id": "NZ9tzpaqI-zj",
        "colab_type": "code",
        "colab": {
          "base_uri": "https://localhost:8080/",
          "height": 1000
        },
        "outputId": "4ff394e6-2f3e-4535-e5bd-08e6791a6082"
      },
      "source": [
        "#Building ANN\n",
        "\n",
        "model = keras.Sequential([\n",
        "    keras.layers.Dense(10 , input_dim = 8   , activation='relu'),\n",
        "    keras.layers.Dense(4, activation=tf.nn.relu),\n",
        "    keras.layers.Dense(4, activation=tf.nn.relu),\n",
        "    keras.layers.Dense(1, activation=tf.nn.sigmoid),\n",
        "])\n",
        "\n",
        "model.compile(optimizer='adam',\n",
        "              loss='binary_crossentropy',\n",
        "              metrics=['accuracy'])\n",
        "\n",
        "history = model.fit(X_train, y_train, epochs=34, batch_size=1, validation_data=(X_val, y_val))\n",
        "\n",
        "loss_train = history.history['loss']\n",
        "loss_val = history.history['val_loss']\n",
        "epochs = range(1,34)\n",
        "plt.plot(history.history['loss'])\n",
        "plt.plot(history.history['val_loss'])\n",
        "plt.title('Training and Validation loss')\n",
        "plt.xlabel('Epochs')\n",
        "plt.ylabel('Loss')\n",
        "plt.legend(['train', 'test'], loc='upper left')\n",
        "plt.show()"
      ],
      "execution_count": 22,
      "outputs": [
        {
          "output_type": "stream",
          "text": [
            "Epoch 1/34\n",
            "    1/11453 [..............................] - ETA: 14:43 - loss: 0.7048 - accuracy: 0.0000e+00WARNING:tensorflow:Callbacks method `on_train_batch_end` is slow compared to the batch time (batch time: 0.0006s vs `on_train_batch_end` time: 0.0054s). Check your callbacks.\n"
          ],
          "name": "stdout"
        },
        {
          "output_type": "stream",
          "text": [
            "WARNING:tensorflow:Callbacks method `on_train_batch_end` is slow compared to the batch time (batch time: 0.0006s vs `on_train_batch_end` time: 0.0054s). Check your callbacks.\n"
          ],
          "name": "stderr"
        },
        {
          "output_type": "stream",
          "text": [
            "11448/11453 [============================>.] - ETA: 0s - loss: 0.1142 - accuracy: 0.9661WARNING:tensorflow:Callbacks method `on_test_batch_end` is slow compared to the batch time (batch time: 0.0005s vs `on_test_batch_end` time: 0.0026s). Check your callbacks.\n"
          ],
          "name": "stdout"
        },
        {
          "output_type": "stream",
          "text": [
            "WARNING:tensorflow:Callbacks method `on_test_batch_end` is slow compared to the batch time (batch time: 0.0005s vs `on_test_batch_end` time: 0.0026s). Check your callbacks.\n"
          ],
          "name": "stderr"
        },
        {
          "output_type": "stream",
          "text": [
            "11453/11453 [==============================] - 96s 8ms/step - loss: 0.1141 - accuracy: 0.9661 - val_loss: 0.0916 - val_accuracy: 0.9791\n",
            "Epoch 2/34\n",
            "11453/11453 [==============================] - 101s 9ms/step - loss: 0.0772 - accuracy: 0.9804 - val_loss: 0.0849 - val_accuracy: 0.9766\n",
            "Epoch 3/34\n",
            "11453/11453 [==============================] - 98s 9ms/step - loss: 0.0727 - accuracy: 0.9800 - val_loss: 0.0832 - val_accuracy: 0.9777\n",
            "Epoch 4/34\n",
            "11453/11453 [==============================] - 97s 9ms/step - loss: 0.0711 - accuracy: 0.9812 - val_loss: 0.0776 - val_accuracy: 0.9791\n",
            "Epoch 5/34\n",
            "11453/11453 [==============================] - 100s 9ms/step - loss: 0.0696 - accuracy: 0.9808 - val_loss: 0.0785 - val_accuracy: 0.9801\n",
            "Epoch 6/34\n",
            "11453/11453 [==============================] - 104s 9ms/step - loss: 0.0685 - accuracy: 0.9817 - val_loss: 0.0775 - val_accuracy: 0.9780\n",
            "Epoch 7/34\n",
            "11453/11453 [==============================] - 96s 8ms/step - loss: 0.0692 - accuracy: 0.9813 - val_loss: 0.0754 - val_accuracy: 0.9791\n",
            "Epoch 8/34\n",
            "11453/11453 [==============================] - 96s 8ms/step - loss: 0.0675 - accuracy: 0.9809 - val_loss: 0.0779 - val_accuracy: 0.9777\n",
            "Epoch 9/34\n",
            "11453/11453 [==============================] - 96s 8ms/step - loss: 0.0680 - accuracy: 0.9811 - val_loss: 0.0813 - val_accuracy: 0.9770\n",
            "Epoch 10/34\n",
            "11453/11453 [==============================] - 99s 9ms/step - loss: 0.0676 - accuracy: 0.9812 - val_loss: 0.0781 - val_accuracy: 0.9784\n",
            "Epoch 11/34\n",
            "11453/11453 [==============================] - 99s 9ms/step - loss: 0.0679 - accuracy: 0.9809 - val_loss: 0.0770 - val_accuracy: 0.9784\n",
            "Epoch 12/34\n",
            "11453/11453 [==============================] - 98s 9ms/step - loss: 0.0678 - accuracy: 0.9806 - val_loss: 0.0771 - val_accuracy: 0.9770\n",
            "Epoch 13/34\n",
            "11453/11453 [==============================] - 97s 8ms/step - loss: 0.0669 - accuracy: 0.9813 - val_loss: 0.0769 - val_accuracy: 0.9770\n",
            "Epoch 14/34\n",
            "11453/11453 [==============================] - 96s 8ms/step - loss: 0.0669 - accuracy: 0.9806 - val_loss: 0.0779 - val_accuracy: 0.9777\n",
            "Epoch 15/34\n",
            "11453/11453 [==============================] - 99s 9ms/step - loss: 0.0669 - accuracy: 0.9815 - val_loss: 0.0767 - val_accuracy: 0.9801\n",
            "Epoch 16/34\n",
            "11453/11453 [==============================] - 96s 8ms/step - loss: 0.0664 - accuracy: 0.9817 - val_loss: 0.0788 - val_accuracy: 0.9770\n",
            "Epoch 17/34\n",
            "11453/11453 [==============================] - 95s 8ms/step - loss: 0.0668 - accuracy: 0.9811 - val_loss: 0.0773 - val_accuracy: 0.9797\n",
            "Epoch 18/34\n",
            "11453/11453 [==============================] - 96s 8ms/step - loss: 0.0663 - accuracy: 0.9810 - val_loss: 0.0759 - val_accuracy: 0.9784\n",
            "Epoch 19/34\n",
            "11453/11453 [==============================] - 99s 9ms/step - loss: 0.0665 - accuracy: 0.9812 - val_loss: 0.0740 - val_accuracy: 0.9791\n",
            "Epoch 20/34\n",
            "11453/11453 [==============================] - 98s 9ms/step - loss: 0.0658 - accuracy: 0.9818 - val_loss: 0.0761 - val_accuracy: 0.9777\n",
            "Epoch 21/34\n",
            "11453/11453 [==============================] - 94s 8ms/step - loss: 0.0658 - accuracy: 0.9815 - val_loss: 0.0773 - val_accuracy: 0.9777\n",
            "Epoch 22/34\n",
            "11453/11453 [==============================] - 97s 8ms/step - loss: 0.0656 - accuracy: 0.9810 - val_loss: 0.0779 - val_accuracy: 0.9777\n",
            "Epoch 23/34\n",
            "11453/11453 [==============================] - 101s 9ms/step - loss: 0.0660 - accuracy: 0.9812 - val_loss: 0.0752 - val_accuracy: 0.9780\n",
            "Epoch 24/34\n",
            "11453/11453 [==============================] - 102s 9ms/step - loss: 0.0655 - accuracy: 0.9814 - val_loss: 0.0759 - val_accuracy: 0.9791\n",
            "Epoch 25/34\n",
            "11453/11453 [==============================] - 96s 8ms/step - loss: 0.0658 - accuracy: 0.9817 - val_loss: 0.0751 - val_accuracy: 0.9777\n",
            "Epoch 26/34\n",
            "11453/11453 [==============================] - 98s 9ms/step - loss: 0.0657 - accuracy: 0.9818 - val_loss: 0.0746 - val_accuracy: 0.9784\n",
            "Epoch 27/34\n",
            "11453/11453 [==============================] - 99s 9ms/step - loss: 0.0646 - accuracy: 0.9821 - val_loss: 0.0760 - val_accuracy: 0.9780\n",
            "Epoch 28/34\n",
            "11453/11453 [==============================] - 101s 9ms/step - loss: 0.0655 - accuracy: 0.9810 - val_loss: 0.0760 - val_accuracy: 0.9797\n",
            "Epoch 29/34\n",
            "11453/11453 [==============================] - 101s 9ms/step - loss: 0.0659 - accuracy: 0.9815 - val_loss: 0.0743 - val_accuracy: 0.9787\n",
            "Epoch 30/34\n",
            "11453/11453 [==============================] - 97s 9ms/step - loss: 0.0643 - accuracy: 0.9818 - val_loss: 0.0756 - val_accuracy: 0.9784\n",
            "Epoch 31/34\n",
            "11453/11453 [==============================] - 101s 9ms/step - loss: 0.0654 - accuracy: 0.9812 - val_loss: 0.0752 - val_accuracy: 0.9787\n",
            "Epoch 32/34\n",
            "11453/11453 [==============================] - 100s 9ms/step - loss: 0.0650 - accuracy: 0.9813 - val_loss: 0.0761 - val_accuracy: 0.9773\n",
            "Epoch 33/34\n",
            "11453/11453 [==============================] - 105s 9ms/step - loss: 0.0654 - accuracy: 0.9815 - val_loss: 0.0738 - val_accuracy: 0.9777\n",
            "Epoch 34/34\n",
            "11453/11453 [==============================] - 101s 9ms/step - loss: 0.0655 - accuracy: 0.9815 - val_loss: 0.0735 - val_accuracy: 0.9784\n"
          ],
          "name": "stdout"
        },
        {
          "output_type": "display_data",
          "data": {
            "image/png": "[encoded data removed]",
            "text/plain": [
              "<Figure size 432x288 with 1 Axes>"
            ]
          },
          "metadata": {
            "tags": [],
            "needs_background": "light"
          }
        }
      ]
    },
    {
      "cell_type": "code",
      "metadata": {
        "id": "6X4hAL9T6OIq",
        "colab_type": "code",
        "colab": {
          "base_uri": "https://localhost:8080/",
          "height": 295
        },
        "outputId": "4989b773-f35b-483e-ad9e-ec3a5bc242ea"
      },
      "source": [
        "\n",
        "loss_train = history.history['accuracy']\n",
        "loss_val = history.history['val_accuracy']\n",
        "epochs = range(1,34)\n",
        "plt.plot(history.history['accuracy'])\n",
        "plt.plot(history.history['val_accuracy'])\n",
        "plt.title('Training and Validation accuracy')\n",
        "plt.xlabel('Epochs')\n",
        "plt.ylabel('Accuracy')\n",
        "plt.legend(['train', 'test'], loc='lower right')\n",
        "plt.grid()\n",
        "plt.show()"
      ],
      "execution_count": 23,
      "outputs": [
        {
          "output_type": "display_data",
          "data": {
            "image/png": "[encoded data removed]",
            "text/plain": [
              "<Figure size 432x288 with 1 Axes>"
            ]
          },
          "metadata": {
            "tags": [],
            "needs_background": "light"
          }
        }
      ]
    },
    {
      "cell_type": "code",
      "metadata": {
        "id": "4MY8P03A63Ft",
        "colab_type": "code",
        "colab": {
          "base_uri": "https://localhost:8080/",
          "height": 306
        },
        "outputId": "e9793a3f-68ca-400c-beed-bde973c0b2fd"
      },
      "source": [
        "print (model.summary())"
      ],
      "execution_count": 24,
      "outputs": [
        {
          "output_type": "stream",
          "text": [
            "Model: \"sequential\"\n",
            "_________________________________________________________________\n",
            "Layer (type)                 Output Shape              Param #   \n",
            "=================================================================\n",
            "dense (Dense)                (None, 10)                90        \n",
            "_________________________________________________________________\n",
            "dense_1 (Dense)              (None, 4)                 44        \n",
            "_________________________________________________________________\n",
            "dense_2 (Dense)              (None, 4)                 20        \n",
            "_________________________________________________________________\n",
            "dense_3 (Dense)              (None, 1)                 5         \n",
            "=================================================================\n",
            "Total params: 159\n",
            "Trainable params: 159\n",
            "Non-trainable params: 0\n",
            "_________________________________________________________________\n",
            "None\n"
          ],
          "name": "stdout"
        }
      ]
    },
    {
      "cell_type": "code",
      "metadata": {
        "id": "Ab9rG3II63S9",
        "colab_type": "code",
        "colab": {
          "base_uri": "https://localhost:8080/",
          "height": 51
        },
        "outputId": "0b525959-7dcf-4d3d-cd8d-4a7966a1771d"
      },
      "source": [
        "X_pred = np.array([df.iloc[1,:-1]])\n",
        "print(X_pred)"
      ],
      "execution_count": 25,
      "outputs": [
        {
          "output_type": "stream",
          "text": [
            "[[103.015625    39.34164944   0.32332837   1.05116443   3.12123746\n",
            "   21.74466875   7.73582202  63.17190911]]\n"
          ],
          "name": "stdout"
        }
      ]
    },
    {
      "cell_type": "code",
      "metadata": {
        "id": "GB05Lxe97C-g",
        "colab_type": "code",
        "colab": {
          "base_uri": "https://localhost:8080/",
          "height": 1000
        },
        "outputId": "fe101289-3f66-4764-fb94-4820c5b892d4"
      },
      "source": [
        "\n",
        "for i in range(8):\n",
        "    fig = plt.figure(figsize = (6,8))\n",
        "    fig = sns.violinplot(data = df, x = df.columns[-1], y = df.columns[i], palette = {0: 'tab:red', 1: 'tab:orange'})\n",
        "    fig.set_title('Distribution of positive and negative cases')\n",
        "    plt.show()"
      ],
      "execution_count": 27,
      "outputs": [
        {
          "output_type": "display_data",
          "data": {
            "image/png": "[encoded data removed]",
            "text/plain": [
              "<Figure size 432x576 with 1 Axes>"
            ]
          },
          "metadata": {
            "tags": [],
            "needs_background": "light"
          }
        },
        {
          "output_type": "display_data",
          "data": {
            "image/png": "[encoded data removed]",
            "text/plain": [
              "<Figure size 432x576 with 1 Axes>"
            ]
          },
          "metadata": {
            "tags": [],
            "needs_background": "light"
          }
        },
        {
          "output_type": "display_data",
          "data": {
            "image/png": "[encoded data removed]",
            "text/plain": [
              "<Figure size 432x576 with 1 Axes>"
            ]
          },
          "metadata": {
            "tags": [],
            "needs_background": "light"
          }
        },
        {
          "output_type": "display_data",
          "data": {
            "image/png": "[encoded data removed]",
            "text/plain": [
              "<Figure size 432x576 with 1 Axes>"
            ]
          },
          "metadata": {
            "tags": [],
            "needs_background": "light"
          }
        },
        {
          "output_type": "display_data",
          "data": {
            "image/png": "[encoded data removed]",
            "text/plain": [
              "<Figure size 432x576 with 1 Axes>"
            ]
          },
          "metadata": {
            "tags": [],
            "needs_background": "light"
          }
        },
        {
          "output_type": "display_data",
          "data": {
            "image/png": "[encoded data removed]",
            "text/plain": [
              "<Figure size 432x576 with 1 Axes>"
            ]
          },
          "metadata": {
            "tags": [],
            "needs_background": "light"
          }
        },
        {
          "output_type": "display_data",
          "data": {
            "image/png": "[encoded data removed]",
            "text/plain": [
              "<Figure size 432x576 with 1 Axes>"
            ]
          },
          "metadata": {
            "tags": [],
            "needs_background": "light"
          }
        },
        {
          "output_type": "display_data",
          "data": {
            "image/png": "[encoded data removed]",
            "text/plain": [
              "<Figure size 432x576 with 1 Axes>"
            ]
          },
          "metadata": {
            "tags": [],
            "needs_background": "light"
          }
        }
      ]
    },
    {
      "cell_type": "code",
      "metadata": {
        "id": "yjtDoGMy7DGD",
        "colab_type": "code",
        "colab": {}
      },
      "source": [
        ""
      ],
      "execution_count": null,
      "outputs": []
    }
  ]
}